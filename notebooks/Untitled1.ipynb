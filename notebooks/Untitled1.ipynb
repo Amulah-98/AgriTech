{
 "cells": [
  {
   "cell_type": "code",
   "execution_count": 13,
   "id": "15bff205",
   "metadata": {},
   "outputs": [],
   "source": [
    "import os\n",
    "import zipfile\n",
    "import tarfile\n",
    "import shutil\n",
    "import urllib.request"
   ]
  },
  {
   "cell_type": "code",
   "execution_count": 14,
   "id": "4315368e",
   "metadata": {},
   "outputs": [
    {
     "name": "stdout",
     "output_type": "stream",
     "text": [
      "Working directory: C:\\Users\\user\\lidar\n"
     ]
    }
   ],
   "source": [
    "work_dir = os.path.join(os.path.expanduser(\"~\"), 'lidar')\n",
    "if not os.path.exists(work_dir):\n",
    "    os.mkdir(work_dir)\n",
    "# os.chdir(work_dir)\n",
    "print(\"Working directory: {}\".format(work_dir))"
   ]
  },
  {
   "cell_type": "code",
   "execution_count": 15,
   "id": "f286f5e8",
   "metadata": {},
   "outputs": [],
   "source": [
    "url = \"https://s3-us-west-2.amazonaws.com/usgs-lidar-public/AK_Kenai_2008/ept.json\""
   ]
  },
  {
   "cell_type": "code",
   "execution_count": 16,
   "id": "5a0ba4d8",
   "metadata": {},
   "outputs": [
    {
     "name": "stdout",
     "output_type": "stream",
     "text": [
      "Downloading ept.json ...\n",
      "Downloading done.\n"
     ]
    }
   ],
   "source": [
    "# download the file \n",
    "zip_name = os.path.basename(url)\n",
    "zip_path = os.path.join(work_dir, zip_name)   \n",
    "\n",
    "print('Downloading {} ...'.format(zip_name))\n",
    "urllib.request.urlretrieve(url, zip_path)   \n",
    "print('Downloading done.'.format(zip_name))"
   ]
  },
  {
   "cell_type": "code",
   "execution_count": 17,
   "id": "818623a3",
   "metadata": {},
   "outputs": [],
   "source": [
    "# if it is a zip file\n",
    "if '.zip' in zip_name:       \n",
    "    print(\"Unzipping {} ...\".format(zip_name))\n",
    "    with zipfile.ZipFile(zip_name, \"r\") as zip_ref:\n",
    "        zip_ref.extractall(work_dir)\n",
    "    print('Unzipping done.')"
   ]
  },
  {
   "cell_type": "code",
   "execution_count": 21,
   "id": "d26f91b5",
   "metadata": {},
   "outputs": [],
   "source": [
    "import json,os,subprocess,sys\n",
    "import pandas as pd"
   ]
  },
  {
   "cell_type": "code",
   "execution_count": 33,
   "id": "5d54dc44",
   "metadata": {},
   "outputs": [
    {
     "name": "stdout",
     "output_type": "stream",
     "text": [
      "Requirement already satisfied: geolidar in c:\\users\\user\\anaconda3\\lib\\site-packages (0.0.3)\n",
      "Requirement already satisfied: pandas>=1.1.0 in c:\\users\\user\\anaconda3\\lib\\site-packages (from geolidar) (1.2.4)\n",
      "Requirement already satisfied: numpy>=1.19.0 in c:\\users\\user\\anaconda3\\lib\\site-packages (from geolidar) (1.20.1)\n",
      "Requirement already satisfied: python-dateutil>=2.7.3 in c:\\users\\user\\anaconda3\\lib\\site-packages (from pandas>=1.1.0->geolidar) (2.8.1)\n",
      "Requirement already satisfied: pytz>=2017.3 in c:\\users\\user\\anaconda3\\lib\\site-packages (from pandas>=1.1.0->geolidar) (2021.1)\n",
      "Requirement already satisfied: six>=1.5 in c:\\users\\user\\anaconda3\\lib\\site-packages (from python-dateutil>=2.7.3->pandas>=1.1.0->geolidar) (1.15.0)\n"
     ]
    }
   ],
   "source": [
    "!pip install geolidar"
   ]
  },
  {
   "cell_type": "code",
   "execution_count": 36,
   "id": "d4e572c5",
   "metadata": {},
   "outputs": [
    {
     "ename": "ImportError",
     "evalue": "cannot import name 'loader' from 'geolidar' (C:\\Users\\user\\anaconda3\\lib\\site-packages\\geolidar\\__init__.py)",
     "output_type": "error",
     "traceback": [
      "\u001b[1;31m---------------------------------------------------------------------------\u001b[0m",
      "\u001b[1;31mImportError\u001b[0m                               Traceback (most recent call last)",
      "\u001b[1;32m<ipython-input-36-3ebd411fceff>\u001b[0m in \u001b[0;36m<module>\u001b[1;34m\u001b[0m\n\u001b[1;32m----> 1\u001b[1;33m \u001b[1;32mfrom\u001b[0m \u001b[0mgeolidar\u001b[0m \u001b[1;32mimport\u001b[0m \u001b[0mloader\u001b[0m\u001b[1;33m\u001b[0m\u001b[1;33m\u001b[0m\u001b[0m\n\u001b[0m",
      "\u001b[1;31mImportError\u001b[0m: cannot import name 'loader' from 'geolidar' (C:\\Users\\user\\anaconda3\\lib\\site-packages\\geolidar\\__init__.py)"
     ]
    }
   ],
   "source": [
    "from geolidar import loader"
   ]
  },
  {
   "cell_type": "code",
   "execution_count": null,
   "id": "add2ca68",
   "metadata": {},
   "outputs": [],
   "source": [
    "import pdal\n",
    "pipeline = pdal.Pipeline(json)\n",
    "count = pipeline.execute()\n",
    "arrays = pipeline.arrays\n",
    "metadata = pipeline.metadata\n",
    "log = pipeline.log"
   ]
  },
  {
   "cell_type": "code",
   "execution_count": null,
   "id": "6aba6e04",
   "metadata": {},
   "outputs": [],
   "source": []
  },
  {
   "cell_type": "code",
   "execution_count": 30,
   "id": "a1dee812",
   "metadata": {},
   "outputs": [
    {
     "ename": "ModuleNotFoundError",
     "evalue": "No module named 'geolidar'",
     "output_type": "error",
     "traceback": [
      "\u001b[1;31m---------------------------------------------------------------------------\u001b[0m",
      "\u001b[1;31mModuleNotFoundError\u001b[0m                       Traceback (most recent call last)",
      "\u001b[1;32m<ipython-input-30-e084e0d14011>\u001b[0m in \u001b[0;36m<module>\u001b[1;34m\u001b[0m\n\u001b[0;32m     11\u001b[0m \u001b[1;32mfrom\u001b[0m \u001b[0murllib\u001b[0m\u001b[1;33m.\u001b[0m\u001b[0mrequest\u001b[0m \u001b[1;32mimport\u001b[0m \u001b[0murlopen\u001b[0m\u001b[1;33m\u001b[0m\u001b[1;33m\u001b[0m\u001b[0m\n\u001b[0;32m     12\u001b[0m \u001b[0msys\u001b[0m\u001b[1;33m.\u001b[0m\u001b[0mpath\u001b[0m\u001b[1;33m.\u001b[0m\u001b[0mappend\u001b[0m\u001b[1;33m(\u001b[0m\u001b[0mos\u001b[0m\u001b[1;33m.\u001b[0m\u001b[0mpath\u001b[0m\u001b[1;33m.\u001b[0m\u001b[0mabspath\u001b[0m\u001b[1;33m(\u001b[0m\u001b[0mos\u001b[0m\u001b[1;33m.\u001b[0m\u001b[0mpath\u001b[0m\u001b[1;33m.\u001b[0m\u001b[0mjoin\u001b[0m\u001b[1;33m(\u001b[0m\u001b[1;34m'../'\u001b[0m\u001b[1;33m)\u001b[0m\u001b[1;33m)\u001b[0m\u001b[1;33m)\u001b[0m\u001b[1;33m\u001b[0m\u001b[1;33m\u001b[0m\u001b[0m\n\u001b[1;32m---> 13\u001b[1;33m \u001b[1;32mfrom\u001b[0m \u001b[0mgeolidar\u001b[0m \u001b[1;32mimport\u001b[0m \u001b[0mstate_mapper\u001b[0m\u001b[1;33m\u001b[0m\u001b[1;33m\u001b[0m\u001b[0m\n\u001b[0m\u001b[0;32m     14\u001b[0m \u001b[1;32mfrom\u001b[0m \u001b[0mgeolidar\u001b[0m\u001b[1;33m.\u001b[0m\u001b[0mmapper\u001b[0m \u001b[1;32mimport\u001b[0m \u001b[0mstate_mapper_variables\u001b[0m\u001b[1;33m\u001b[0m\u001b[1;33m\u001b[0m\u001b[0m\n\u001b[0;32m     15\u001b[0m \u001b[1;32mfrom\u001b[0m \u001b[0mrasterio\u001b[0m\u001b[1;33m.\u001b[0m\u001b[0mplot\u001b[0m \u001b[1;32mimport\u001b[0m \u001b[0mshow\u001b[0m\u001b[1;33m\u001b[0m\u001b[1;33m\u001b[0m\u001b[0m\n",
      "\u001b[1;31mModuleNotFoundError\u001b[0m: No module named 'geolidar'"
     ]
    }
   ],
   "source": [
    "#import geopandas as gpd\n",
    "#import laspy\n",
    "#import pdal\n",
    "import json,os,subprocess,sys\n",
    "import pandas as pd\n",
    "import requests\n",
    "from dateutil.parser import parse\n",
    "import matplotlib.pyplot as plt\n",
    "\n",
    "# import urllib library\n",
    "from urllib.request import urlopen\n",
    "sys.path.append(os.path.abspath(os.path.join('../')))\n",
    "from geolidar import state_mapper\n",
    "from geolidar.mapper import state_mapper_variables\n",
    "from rasterio.plot import show\n",
    "import rasterio\n",
    "from rasterio.plot import show_hist\n"
   ]
  },
  {
   "cell_type": "code",
   "execution_count": null,
   "id": "78c55c9b",
   "metadata": {},
   "outputs": [],
   "source": []
  },
  {
   "cell_type": "code",
   "execution_count": null,
   "id": "c458ed32",
   "metadata": {},
   "outputs": [],
   "source": []
  },
  {
   "cell_type": "code",
   "execution_count": null,
   "id": "aa8071a8",
   "metadata": {},
   "outputs": [],
   "source": []
  },
  {
   "cell_type": "code",
   "execution_count": null,
   "id": "12f1b57d",
   "metadata": {},
   "outputs": [],
   "source": []
  },
  {
   "cell_type": "code",
   "execution_count": null,
   "id": "9c581427",
   "metadata": {},
   "outputs": [],
   "source": []
  },
  {
   "cell_type": "code",
   "execution_count": null,
   "id": "743f2d18",
   "metadata": {},
   "outputs": [],
   "source": []
  }
 ],
 "metadata": {
  "kernelspec": {
   "display_name": "Python 3",
   "language": "python",
   "name": "python3"
  },
  "language_info": {
   "codemirror_mode": {
    "name": "ipython",
    "version": 3
   },
   "file_extension": ".py",
   "mimetype": "text/x-python",
   "name": "python",
   "nbconvert_exporter": "python",
   "pygments_lexer": "ipython3",
   "version": "3.8.8"
  }
 },
 "nbformat": 4,
 "nbformat_minor": 5
}
