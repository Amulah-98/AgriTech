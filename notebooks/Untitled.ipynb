{
 "cells": [
  {
   "cell_type": "code",
   "execution_count": 3,
   "id": "f604d6d5",
   "metadata": {},
   "outputs": [
    {
     "name": "stdout",
     "output_type": "stream",
     "text": [
      "Requirement already satisfied: geolidar in c:\\users\\user\\anaconda3\\lib\\site-packages (0.0.3)\n",
      "Requirement already satisfied: numpy>=1.19.0 in c:\\users\\user\\anaconda3\\lib\\site-packages (from geolidar) (1.20.1)\n",
      "Requirement already satisfied: pandas>=1.1.0 in c:\\users\\user\\anaconda3\\lib\\site-packages (from geolidar) (1.2.4)\n",
      "Requirement already satisfied: pytz>=2017.3 in c:\\users\\user\\anaconda3\\lib\\site-packages (from pandas>=1.1.0->geolidar) (2021.1)\n",
      "Requirement already satisfied: python-dateutil>=2.7.3 in c:\\users\\user\\anaconda3\\lib\\site-packages (from pandas>=1.1.0->geolidar) (2.8.1)\n",
      "Requirement already satisfied: six>=1.5 in c:\\users\\user\\anaconda3\\lib\\site-packages (from python-dateutil>=2.7.3->pandas>=1.1.0->geolidar) (1.15.0)\n"
     ]
    }
   ],
   "source": [
    "!pip install geolidar"
   ]
  },
  {
   "cell_type": "code",
   "execution_count": 1,
   "id": "2b680e96",
   "metadata": {},
   "outputs": [],
   "source": [
    "import numpy as np\n",
    "import pandas as pd"
   ]
  },
  {
   "cell_type": "code",
   "execution_count": 3,
   "id": "34fcbd81",
   "metadata": {},
   "outputs": [],
   "source": [
    "df=pd.read_table(\"C:\\\\Users\\\\user\\\\Desktop\\\\AgriTech\\\\data\\\\filename.txt\")"
   ]
  },
  {
   "cell_type": "code",
   "execution_count": 4,
   "id": "15d29139",
   "metadata": {},
   "outputs": [
    {
     "data": {
      "text/html": [
       "<div>\n",
       "<style scoped>\n",
       "    .dataframe tbody tr th:only-of-type {\n",
       "        vertical-align: middle;\n",
       "    }\n",
       "\n",
       "    .dataframe tbody tr th {\n",
       "        vertical-align: top;\n",
       "    }\n",
       "\n",
       "    .dataframe thead th {\n",
       "        text-align: right;\n",
       "    }\n",
       "</style>\n",
       "<table border=\"1\" class=\"dataframe\">\n",
       "  <thead>\n",
       "    <tr style=\"text-align: right;\">\n",
       "      <th></th>\n",
       "      <th>AK_BrooksCamp_2012/</th>\n",
       "    </tr>\n",
       "  </thead>\n",
       "  <tbody>\n",
       "    <tr>\n",
       "      <th>0</th>\n",
       "      <td>AK_Coastal_2009/</td>\n",
       "    </tr>\n",
       "    <tr>\n",
       "      <th>1</th>\n",
       "      <td>AK_Fairbanks-NSBorough_2010/</td>\n",
       "    </tr>\n",
       "    <tr>\n",
       "      <th>2</th>\n",
       "      <td>AK_Juneau_2012/</td>\n",
       "    </tr>\n",
       "    <tr>\n",
       "      <th>3</th>\n",
       "      <td>AK_Kenai_2008/</td>\n",
       "    </tr>\n",
       "    <tr>\n",
       "      <th>4</th>\n",
       "      <td>AK_MatanuskaSusitna-Lot1_2011/</td>\n",
       "    </tr>\n",
       "    <tr>\n",
       "      <th>...</th>\n",
       "      <td>...</td>\n",
       "    </tr>\n",
       "    <tr>\n",
       "      <th>1592</th>\n",
       "      <td>WY_FEMA_East_B6_2019/</td>\n",
       "    </tr>\n",
       "    <tr>\n",
       "      <th>1593</th>\n",
       "      <td>WY_FEMA_East_B7_2019/</td>\n",
       "    </tr>\n",
       "    <tr>\n",
       "      <th>1594</th>\n",
       "      <td>WY_FEMA_East_B8_2019/</td>\n",
       "    </tr>\n",
       "    <tr>\n",
       "      <th>1595</th>\n",
       "      <td>WY_FEMA_East_B9_2019/</td>\n",
       "    </tr>\n",
       "    <tr>\n",
       "      <th>1596</th>\n",
       "      <td>WY_Southwest_1_2020/</td>\n",
       "    </tr>\n",
       "  </tbody>\n",
       "</table>\n",
       "<p>1597 rows × 1 columns</p>\n",
       "</div>"
      ],
      "text/plain": [
       "                 AK_BrooksCamp_2012/\n",
       "0                   AK_Coastal_2009/\n",
       "1       AK_Fairbanks-NSBorough_2010/\n",
       "2                    AK_Juneau_2012/\n",
       "3                     AK_Kenai_2008/\n",
       "4     AK_MatanuskaSusitna-Lot1_2011/\n",
       "...                              ...\n",
       "1592           WY_FEMA_East_B6_2019/\n",
       "1593           WY_FEMA_East_B7_2019/\n",
       "1594           WY_FEMA_East_B8_2019/\n",
       "1595           WY_FEMA_East_B9_2019/\n",
       "1596            WY_Southwest_1_2020/\n",
       "\n",
       "[1597 rows x 1 columns]"
      ]
     },
     "execution_count": 4,
     "metadata": {},
     "output_type": "execute_result"
    }
   ],
   "source": [
    "df"
   ]
  },
  {
   "cell_type": "code",
   "execution_count": 5,
   "id": "bc5e8da4",
   "metadata": {},
   "outputs": [
    {
     "data": {
      "text/plain": [
       "'C:\\\\Users\\\\user\\\\Desktop\\\\AgriTech\\\\notebooks'"
      ]
     },
     "execution_count": 5,
     "metadata": {},
     "output_type": "execute_result"
    }
   ],
   "source": [
    "pwd"
   ]
  },
  {
   "cell_type": "code",
   "execution_count": 4,
   "id": "931ea102",
   "metadata": {},
   "outputs": [
    {
     "ename": "ImportError",
     "evalue": "cannot import name 'state_mapper' from 'geolidar' (C:\\Users\\user\\anaconda3\\lib\\site-packages\\geolidar\\__init__.py)",
     "output_type": "error",
     "traceback": [
      "\u001b[1;31m---------------------------------------------------------------------------\u001b[0m",
      "\u001b[1;31mImportError\u001b[0m                               Traceback (most recent call last)",
      "\u001b[1;32m<ipython-input-4-c254daa5720e>\u001b[0m in \u001b[0;36m<module>\u001b[1;34m\u001b[0m\n\u001b[1;32m----> 1\u001b[1;33m \u001b[1;32mfrom\u001b[0m \u001b[0mgeolidar\u001b[0m \u001b[1;32mimport\u001b[0m \u001b[0mstate_mapper\u001b[0m\u001b[1;33m\u001b[0m\u001b[1;33m\u001b[0m\u001b[0m\n\u001b[0m",
      "\u001b[1;31mImportError\u001b[0m: cannot import name 'state_mapper' from 'geolidar' (C:\\Users\\user\\anaconda3\\lib\\site-packages\\geolidar\\__init__.py)"
     ]
    }
   ],
   "source": [
    "from geolidar import state_mapper"
   ]
  },
  {
   "cell_type": "code",
   "execution_count": 4,
   "id": "f7163b7f",
   "metadata": {},
   "outputs": [
    {
     "ename": "NameError",
     "evalue": "name '_csv' is not defined",
     "output_type": "error",
     "traceback": [
      "\u001b[1;31m---------------------------------------------------------------------------\u001b[0m",
      "\u001b[1;31mNameError\u001b[0m                                 Traceback (most recent call last)",
      "\u001b[1;32m<ipython-input-4-3afbc3ed1ac0>\u001b[0m in \u001b[0;36m<module>\u001b[1;34m\u001b[0m\n\u001b[0;32m      8\u001b[0m     \u001b[1;32mwith\u001b[0m \u001b[0mopen\u001b[0m\u001b[1;33m(\u001b[0m\u001b[1;34m'filled_by_pdal.csv'\u001b[0m\u001b[1;33m,\u001b[0m \u001b[1;34m'w'\u001b[0m\u001b[1;33m)\u001b[0m \u001b[1;32mas\u001b[0m \u001b[0mfp\u001b[0m\u001b[1;33m:\u001b[0m\u001b[1;33m\u001b[0m\u001b[1;33m\u001b[0m\u001b[0m\n\u001b[0;32m      9\u001b[0m         \u001b[0mfp\u001b[0m\u001b[1;33m.\u001b[0m\u001b[0mwrite\u001b[0m\u001b[1;33m(\u001b[0m\u001b[1;34m'id,x,y,z\\n'\u001b[0m\u001b[1;33m)\u001b[0m\u001b[1;33m\u001b[0m\u001b[1;33m\u001b[0m\u001b[0m\n\u001b[1;32m---> 10\u001b[1;33m \u001b[1;32mfor\u001b[0m \u001b[0m_id\u001b[0m\u001b[1;33m,\u001b[0m \u001b[0m_filename\u001b[0m\u001b[1;33m,\u001b[0m \u001b[0m_bounds\u001b[0m\u001b[1;33m,\u001b[0m \u001b[0m_polygon\u001b[0m \u001b[1;32min\u001b[0m \u001b[0mzip\u001b[0m\u001b[1;33m(\u001b[0m\u001b[0m_csv\u001b[0m\u001b[1;33m.\u001b[0m\u001b[0mid\u001b[0m\u001b[1;33m,\u001b[0m \u001b[0m_csv\u001b[0m\u001b[1;33m.\u001b[0m\u001b[0mfilename\u001b[0m\u001b[1;33m,\u001b[0m \u001b[0m_csv\u001b[0m\u001b[1;33m.\u001b[0m\u001b[0mbounds\u001b[0m\u001b[1;33m,\u001b[0m \u001b[0m_csv\u001b[0m\u001b[1;33m.\u001b[0m\u001b[0mpolygon\u001b[0m\u001b[1;33m)\u001b[0m\u001b[1;33m:\u001b[0m\u001b[1;33m\u001b[0m\u001b[1;33m\u001b[0m\u001b[0m\n\u001b[0m\u001b[0;32m     11\u001b[0m             \u001b[0mthe_json\u001b[0m\u001b[1;33m[\u001b[0m\u001b[1;36m0\u001b[0m\u001b[1;33m]\u001b[0m\u001b[1;33m[\u001b[0m\u001b[1;34m'filename'\u001b[0m\u001b[1;33m]\u001b[0m \u001b[1;33m=\u001b[0m \u001b[0m_filename\u001b[0m\u001b[1;33m\u001b[0m\u001b[1;33m\u001b[0m\u001b[0m\n\u001b[0;32m     12\u001b[0m             \u001b[0mthe_json\u001b[0m\u001b[1;33m[\u001b[0m\u001b[1;36m0\u001b[0m\u001b[1;33m]\u001b[0m\u001b[1;33m[\u001b[0m\u001b[1;34m'bounds'\u001b[0m\u001b[1;33m]\u001b[0m \u001b[1;33m=\u001b[0m \u001b[0m_bounds\u001b[0m\u001b[1;33m\u001b[0m\u001b[1;33m\u001b[0m\u001b[0m\n",
      "\u001b[1;31mNameError\u001b[0m: name '_csv' is not defined"
     ]
    }
   ],
   "source": [
    "def run_pdal(csv):\n",
    "    # Open the csv\n",
    "    _csv = pd.read_csv(csv)\n",
    "    # Open the JSON\n",
    "    with open('S3/path/to/pipeline.json') as json_file:\n",
    "        the_json = json.load(json_file)\n",
    "    # Open an empty csv on S3\n",
    "    with open('filled_by_pdal.csv', 'w') as fp:\n",
    "        fp.write('id,x,y,z\\n')\n",
    "for _id, _filename, _bounds, _polygon in zip(_csv.id, _csv.filename, _csv.bounds, _csv.polygon):\n",
    "            the_json[0]['filename'] = _filename\n",
    "            the_json[0]['bounds'] = _bounds\n",
    "            the_json[4]['polygon'] = _polygon\n",
    "            pipeline = pdal.Pipeline(json.dumps(the_json))\n",
    "            try:\n",
    "                pipeline.execute()\n",
    "                xyz = pipeline.arrays[0][['X','Y','Z']][0]\n",
    "                fp.write(f'{_id},{xyz[0]:.2f},{xyz[1]:.2f},{xyz[2]:.2f}\\n')\n",
    "            except RuntimeError as e:\n",
    "                    print(e)\n",
    "                    # RuntimeError: filters.hag: Input PointView does not have any points classified as ground\n",
    "                    print('RunTime Error, writing 0s and moving to next bounds')\n",
    "                    fp.write(f'{_id},0,0,0\\n')\n",
    "                    pass"
   ]
  },
  {
   "cell_type": "code",
   "execution_count": null,
   "id": "4249c690",
   "metadata": {},
   "outputs": [],
   "source": []
  },
  {
   "cell_type": "code",
   "execution_count": null,
   "id": "ecb4fe65",
   "metadata": {},
   "outputs": [],
   "source": []
  },
  {
   "cell_type": "code",
   "execution_count": null,
   "id": "893779f4",
   "metadata": {},
   "outputs": [],
   "source": []
  },
  {
   "cell_type": "code",
   "execution_count": null,
   "id": "7a122d8b",
   "metadata": {},
   "outputs": [],
   "source": []
  }
 ],
 "metadata": {
  "kernelspec": {
   "display_name": "Python 3",
   "language": "python",
   "name": "python3"
  },
  "language_info": {
   "codemirror_mode": {
    "name": "ipython",
    "version": 3
   },
   "file_extension": ".py",
   "mimetype": "text/x-python",
   "name": "python",
   "nbconvert_exporter": "python",
   "pygments_lexer": "ipython3",
   "version": "3.8.8"
  }
 },
 "nbformat": 4,
 "nbformat_minor": 5
}
