{
 "cells": [
  {
   "cell_type": "code",
   "execution_count": 1,
   "id": "08b1c622",
   "metadata": {},
   "outputs": [
    {
     "name": "stdout",
     "output_type": "stream",
     "text": [
      "['C:\\\\Users\\\\user\\\\Desktop\\\\AgriTech\\\\notebooks', 'C:\\\\Users\\\\user\\\\anaconda3\\\\python38.zip', 'C:\\\\Users\\\\user\\\\anaconda3\\\\DLLs', 'C:\\\\Users\\\\user\\\\anaconda3\\\\lib', 'C:\\\\Users\\\\user\\\\anaconda3', '', 'C:\\\\Users\\\\user\\\\anaconda3\\\\lib\\\\site-packages', 'C:\\\\Users\\\\user\\\\anaconda3\\\\lib\\\\site-packages\\\\win32', 'C:\\\\Users\\\\user\\\\anaconda3\\\\lib\\\\site-packages\\\\win32\\\\lib', 'C:\\\\Users\\\\user\\\\anaconda3\\\\lib\\\\site-packages\\\\Pythonwin']\n"
     ]
    },
    {
     "ename": "ModuleNotFoundError",
     "evalue": "No module named 'logger'",
     "output_type": "error",
     "traceback": [
      "\u001b[1;31m---------------------------------------------------------------------------\u001b[0m",
      "\u001b[1;31mModuleNotFoundError\u001b[0m                       Traceback (most recent call last)",
      "Input \u001b[1;32mIn [1]\u001b[0m, in \u001b[0;36m<cell line: 9>\u001b[1;34m()\u001b[0m\n\u001b[0;32m      7\u001b[0m \u001b[38;5;28;01mimport\u001b[39;00m \u001b[38;5;21;01msys\u001b[39;00m\n\u001b[0;32m      8\u001b[0m \u001b[38;5;28mprint\u001b[39m(sys\u001b[38;5;241m.\u001b[39mpath)\n\u001b[1;32m----> 9\u001b[0m \u001b[38;5;28;01mfrom\u001b[39;00m \u001b[38;5;21;01mlogger\u001b[39;00m \u001b[38;5;28;01mimport\u001b[39;00m Logger\n\u001b[0;32m     10\u001b[0m sys\u001b[38;5;241m.\u001b[39mpath\u001b[38;5;241m.\u001b[39minsert(\u001b[38;5;241m0\u001b[39m, \u001b[38;5;124m'\u001b[39m\u001b[38;5;124m../scripts/\u001b[39m\u001b[38;5;124m'\u001b[39m)\n",
      "\u001b[1;31mModuleNotFoundError\u001b[0m: No module named 'logger'"
     ]
    }
   ],
   "source": [
    "import laspy\n",
    "import geopandas\n",
    "from urllib.request import urlopen\n",
    "import json\n",
    "import numpy as np\n",
    "import pandas as pd\n",
    "import sys\n",
    "print(sys.path)\n",
    "from logger import Logger\n",
    "sys.path.insert(0, '../scripts/')"
   ]
  },
  {
   "cell_type": "code",
   "execution_count": 6,
   "id": "7ba0e8e2",
   "metadata": {},
   "outputs": [],
   "source": [
    "class LoadData:\n",
    "    def __init__(self, bounds_x, bounds_y, region) -> None:\n",
    "        self.logger = Logger(\"load_data\").get_app_logger()\n",
    "        self.bounds_x = bounds_x\n",
    "        self.bounds_y = bounds_y\n",
    "        self.region = region\n",
    "        self.data_dir = Path().cwd().parent / \"data\""
   ]
  },
  {
   "cell_type": "code",
   "execution_count": 2,
   "id": "17761989",
   "metadata": {},
   "outputs": [],
   "source": [
    "contents = urlopen(\"http://s3-us-west-2.amazonaws.com/usgs-lidar-public/IL_BooneCo_2007/ept.json\").read()"
   ]
  },
  {
   "cell_type": "code",
   "execution_count": 7,
   "id": "3f0909b7",
   "metadata": {},
   "outputs": [
    {
     "ename": "NameError",
     "evalue": "name 'Logger' is not defined",
     "output_type": "error",
     "traceback": [
      "\u001b[1;31m---------------------------------------------------------------------------\u001b[0m",
      "\u001b[1;31mNameError\u001b[0m                                 Traceback (most recent call last)",
      "\u001b[1;32mc:\\Users\\user\\Desktop\\AgriTech\\notebooks\\lidar.ipynb Cell 4'\u001b[0m in \u001b[0;36m<cell line: 1>\u001b[1;34m()\u001b[0m\n\u001b[1;32m----> <a href='vscode-notebook-cell:/c%3A/Users/user/Desktop/AgriTech/notebooks/lidar.ipynb#ch0000003?line=0'>1</a>\u001b[0m loaded_data \u001b[39m=\u001b[39m LoadData(\n\u001b[0;32m      <a href='vscode-notebook-cell:/c%3A/Users/user/Desktop/AgriTech/notebooks/lidar.ipynb#ch0000003?line=1'>2</a>\u001b[0m         [\u001b[39m-\u001b[39;49m\u001b[39m9619500\u001b[39;49m, \u001b[39m5187800\u001b[39;49m],\n\u001b[0;32m      <a href='vscode-notebook-cell:/c%3A/Users/user/Desktop/AgriTech/notebooks/lidar.ipynb#ch0000003?line=2'>3</a>\u001b[0m         [\u001b[39m-\u001b[39;49m\u001b[39m9618900\u001b[39;49m, \u001b[39m5188500\u001b[39;49m],\n\u001b[0;32m      <a href='vscode-notebook-cell:/c%3A/Users/user/Desktop/AgriTech/notebooks/lidar.ipynb#ch0000003?line=3'>4</a>\u001b[0m         \u001b[39m\"\u001b[39;49m\u001b[39mIL_BooneCo_2007\u001b[39;49m\u001b[39m\"\u001b[39;49m,\n\u001b[0;32m      <a href='vscode-notebook-cell:/c%3A/Users/user/Desktop/AgriTech/notebooks/lidar.ipynb#ch0000003?line=4'>5</a>\u001b[0m     )\n",
      "\u001b[1;32mc:\\Users\\user\\Desktop\\AgriTech\\notebooks\\lidar.ipynb Cell 2'\u001b[0m in \u001b[0;36mLoadData.__init__\u001b[1;34m(self, bounds_x, bounds_y, region)\u001b[0m\n\u001b[0;32m      <a href='vscode-notebook-cell:/c%3A/Users/user/Desktop/AgriTech/notebooks/lidar.ipynb#ch0000001?line=1'>2</a>\u001b[0m \u001b[39mdef\u001b[39;00m \u001b[39m__init__\u001b[39m(\u001b[39mself\u001b[39m, bounds_x, bounds_y, region) \u001b[39m-\u001b[39m\u001b[39m>\u001b[39m \u001b[39mNone\u001b[39;00m:\n\u001b[1;32m----> <a href='vscode-notebook-cell:/c%3A/Users/user/Desktop/AgriTech/notebooks/lidar.ipynb#ch0000001?line=2'>3</a>\u001b[0m     \u001b[39mself\u001b[39m\u001b[39m.\u001b[39mlogger \u001b[39m=\u001b[39m Logger(\u001b[39m\"\u001b[39m\u001b[39mload_data\u001b[39m\u001b[39m\"\u001b[39m)\u001b[39m.\u001b[39mget_app_logger()\n\u001b[0;32m      <a href='vscode-notebook-cell:/c%3A/Users/user/Desktop/AgriTech/notebooks/lidar.ipynb#ch0000001?line=3'>4</a>\u001b[0m     \u001b[39mself\u001b[39m\u001b[39m.\u001b[39mbounds_x \u001b[39m=\u001b[39m bounds_x\n\u001b[0;32m      <a href='vscode-notebook-cell:/c%3A/Users/user/Desktop/AgriTech/notebooks/lidar.ipynb#ch0000001?line=4'>5</a>\u001b[0m     \u001b[39mself\u001b[39m\u001b[39m.\u001b[39mbounds_y \u001b[39m=\u001b[39m bounds_y\n",
      "\u001b[1;31mNameError\u001b[0m: name 'Logger' is not defined"
     ]
    }
   ],
   "source": [
    "loaded_data = LoadData(\n",
    "        [-9619500, 5187800],\n",
    "        [-9618900, 5188500],\n",
    "        \"IL_BooneCo_2007\",\n",
    "    )"
   ]
  },
  {
   "cell_type": "code",
   "execution_count": 8,
   "id": "e56b65eb",
   "metadata": {},
   "outputs": [
    {
     "ename": "NameError",
     "evalue": "name 'loaded_data' is not defined",
     "output_type": "error",
     "traceback": [
      "\u001b[1;31m---------------------------------------------------------------------------\u001b[0m",
      "\u001b[1;31mNameError\u001b[0m                                 Traceback (most recent call last)",
      "\u001b[1;32mc:\\Users\\user\\Desktop\\AgriTech\\notebooks\\lidar.ipynb Cell 5'\u001b[0m in \u001b[0;36m<cell line: 1>\u001b[1;34m()\u001b[0m\n\u001b[1;32m----> <a href='vscode-notebook-cell:/c%3A/Users/user/Desktop/AgriTech/notebooks/lidar.ipynb#ch0000004?line=0'>1</a>\u001b[0m data_dict \u001b[39m=\u001b[39m loaded_data\u001b[39m.\u001b[39mfetch_data()\n",
      "\u001b[1;31mNameError\u001b[0m: name 'loaded_data' is not defined"
     ]
    }
   ],
   "source": [
    "data_dict = loaded_data.fetch_data()"
   ]
  },
  {
   "cell_type": "code",
   "execution_count": null,
   "id": "de6df0aa",
   "metadata": {},
   "outputs": [],
   "source": [
    "data_dict"
   ]
  },
  {
   "cell_type": "code",
   "execution_count": null,
   "id": "9cfb71ff",
   "metadata": {},
   "outputs": [],
   "source": [
    "data_dict[\"2007\"]"
   ]
  },
  {
   "cell_type": "code",
   "execution_count": null,
   "id": "fb6c33b9",
   "metadata": {},
   "outputs": [],
   "source": []
  },
  {
   "cell_type": "code",
   "execution_count": null,
   "id": "215cc7c9",
   "metadata": {},
   "outputs": [],
   "source": []
  },
  {
   "cell_type": "code",
   "execution_count": null,
   "id": "092546c8",
   "metadata": {},
   "outputs": [],
   "source": []
  },
  {
   "cell_type": "code",
   "execution_count": null,
   "id": "54431c20",
   "metadata": {},
   "outputs": [],
   "source": []
  },
  {
   "cell_type": "code",
   "execution_count": null,
   "id": "66e5ef1a",
   "metadata": {},
   "outputs": [],
   "source": []
  },
  {
   "cell_type": "code",
   "execution_count": null,
   "id": "e3166ad0",
   "metadata": {},
   "outputs": [],
   "source": []
  },
  {
   "cell_type": "code",
   "execution_count": null,
   "id": "d87cccec",
   "metadata": {},
   "outputs": [],
   "source": []
  },
  {
   "cell_type": "code",
   "execution_count": null,
   "id": "63135219",
   "metadata": {},
   "outputs": [],
   "source": []
  },
  {
   "cell_type": "code",
   "execution_count": null,
   "id": "02ac40d9",
   "metadata": {},
   "outputs": [],
   "source": []
  },
  {
   "cell_type": "code",
   "execution_count": null,
   "id": "d56504a8",
   "metadata": {},
   "outputs": [],
   "source": []
  },
  {
   "cell_type": "code",
   "execution_count": null,
   "id": "4dc81635",
   "metadata": {},
   "outputs": [],
   "source": []
  },
  {
   "cell_type": "code",
   "execution_count": null,
   "id": "62db9244",
   "metadata": {},
   "outputs": [],
   "source": []
  },
  {
   "cell_type": "code",
   "execution_count": null,
   "id": "d7386559",
   "metadata": {},
   "outputs": [],
   "source": []
  },
  {
   "cell_type": "code",
   "execution_count": null,
   "id": "cf1606ce",
   "metadata": {},
   "outputs": [],
   "source": []
  }
 ],
 "metadata": {
  "kernelspec": {
   "display_name": "Python 3 (ipykernel)",
   "language": "python",
   "name": "python3"
  },
  "language_info": {
   "codemirror_mode": {
    "name": "ipython",
    "version": 3
   },
   "file_extension": ".py",
   "mimetype": "text/x-python",
   "name": "python",
   "nbconvert_exporter": "python",
   "pygments_lexer": "ipython3",
   "version": "3.8.8"
  }
 },
 "nbformat": 4,
 "nbformat_minor": 5
}
